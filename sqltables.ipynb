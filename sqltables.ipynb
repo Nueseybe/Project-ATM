{
 "cells": [
  {
   "cell_type": "code",
   "execution_count": 1,
   "metadata": {},
   "outputs": [],
   "source": [
    "import psycopg2 "
   ]
  },
  {
   "cell_type": "code",
   "execution_count": null,
   "metadata": {},
   "outputs": [],
   "source": [
    "#create a database\n",
    "\n",
    "'''\n",
    "CREATE DATABASE atm_proje\n",
    "    WITH\n",
    "    OWNER = postgres\n",
    "    ENCODING = 'UTF8'\n",
    "    LC_COLLATE = 'C'\n",
    "    LC_CTYPE = 'C'\n",
    "    TABLESPACE = pg_default\n",
    "    CONNECTION LIMIT = -1\n",
    "    IS_TEMPLATE = False;\n",
    "'''"
   ]
  },
  {
   "cell_type": "code",
   "execution_count": 3,
   "metadata": {},
   "outputs": [],
   "source": [
    "\n",
    "conn = psycopg2.connect(\"dbname=atm_proje user = postgres password=12345\")\n",
    "cur = conn.cursor() \n",
    "command = '''create table customer_info\n",
    "(\n",
    "    customer_id integer primary key,\n",
    "    password integer       NOT NULL,\n",
    "    first_name varchar(20) NOT NULL,\n",
    "    surname varchar(20) NOT NULL,\n",
    "    email varchar(20) NOT NULL,\n",
    "    balance integer\n",
    "    \n",
    ") '''\n",
    "cur.execute(command)\n",
    "cur.close()\n",
    "conn.commit()\n",
    "conn.close()"
   ]
  },
  {
   "cell_type": "code",
   "execution_count": 2,
   "metadata": {},
   "outputs": [],
   "source": [
    "conn = psycopg2.connect(\"dbname=atm_proje user = postgres password=12345\")\n",
    "cur = conn.cursor() \n",
    "command = '''create table admin_info\n",
    "(\n",
    "    admin_id integer primary key,\n",
    "    password integer,\n",
    "    self_now date   not null\n",
    "\n",
    ") '''\n",
    "cur.execute(command)\n",
    "cur.close()\n",
    "conn.commit()\n",
    "conn.close()"
   ]
  },
  {
   "cell_type": "code",
   "execution_count": 5,
   "metadata": {},
   "outputs": [],
   "source": [
    "conn = psycopg2.connect(\"dbname=atm_proje user = postgres password=12345\")\n",
    "cur = conn.cursor() \n",
    "command = '''create table money_actions\n",
    "(\n",
    "    moneyactions_id   integer  primary key,\n",
    "    customer_id       integer  ,\n",
    "    FOREIGN KEY (customer_id)\n",
    "        REFERENCES customer_info (customer_id)\n",
    "        ON UPDATE CASCADE ON DELETE CASCADE, \n",
    "    withdraw_money  integer,\n",
    "    deposit_money   integer,\n",
    "    internal_money  integer,\n",
    "    external_money  integer,\n",
    "    balance         integer\n",
    "   \n",
    "   \n",
    ") '''\n",
    "cur.execute(command)\n",
    "cur.close()\n",
    "conn.commit()\n",
    "conn.close()"
   ]
  },
  {
   "cell_type": "code",
   "execution_count": 7,
   "metadata": {},
   "outputs": [],
   "source": [
    "conn = psycopg2.connect(\"dbname=atm_proje user = postgres password=12345\")\n",
    "cur = conn.cursor() \n",
    "command = '''create table customer_actions\n",
    "(\n",
    "    custactions_id  integer PRIMARY KEY,\n",
    "    customer_id     integer ,\n",
    "    action_date     date      not null,\n",
    "    cust_actions    varchar(40)  not null,\n",
    "    FOREIGN KEY (customer_id)\n",
    "        REFERENCES customer_info (customer_id)\n",
    "        ON UPDATE CASCADE ON DELETE CASCADE\n",
    ") '''\n",
    "cur.execute(command)\n",
    "cur.close()\n",
    "conn.commit()\n",
    "conn.close()"
   ]
  },
  {
   "cell_type": "code",
   "execution_count": 6,
   "metadata": {},
   "outputs": [],
   "source": [
    "from datetime import date, datetime\n",
    "conn = psycopg2.connect(\"dbname=atm_proje user = postgres password=12345\")\n",
    "cur = conn.cursor() \n",
    "admin_id=['1122333','1111111']\n",
    "password=['1223330','9999999']\n",
    "datetime_obj=datetime.now()\n",
    "t=datetime_obj.strftime('%H:%M:%S')\n",
    "\n",
    "\n",
    "\n",
    "for i in range(2):\n",
    "   cur.execute('INSERT INTO admin_info VALUES (%s,%s,%s)', (admin_id[i],password[i],datetime_obj))\n",
    "    \n",
    "cur.close()\n",
    "conn.commit()\n",
    "conn.close()"
   ]
  }
 ],
 "metadata": {
  "kernelspec": {
   "display_name": "Python 3",
   "language": "python",
   "name": "python3"
  },
  "language_info": {
   "codemirror_mode": {
    "name": "ipython",
    "version": 3
   },
   "file_extension": ".py",
   "mimetype": "text/x-python",
   "name": "python",
   "nbconvert_exporter": "python",
   "pygments_lexer": "ipython3",
   "version": "3.10.10"
  },
  "orig_nbformat": 4,
  "vscode": {
   "interpreter": {
    "hash": "7536d7b229462f4296d4c0dae49c3bd6cd3990c783d6b9d88ce3c31a78605890"
   }
  }
 },
 "nbformat": 4,
 "nbformat_minor": 2
}
