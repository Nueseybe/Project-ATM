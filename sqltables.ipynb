{
 "cells": [
  {
   "cell_type": "code",
   "execution_count": 3,
   "metadata": {},
   "outputs": [],
   "source": [
    "import psycopg2 "
   ]
  },
  {
   "cell_type": "code",
   "execution_count": null,
   "metadata": {},
   "outputs": [],
   "source": [
    "#create a database\n",
    "\n",
    "'''\n",
    "CREATE DATABASE atm_proje\n",
    "    WITH\n",
    "    OWNER = postgres\n",
    "    ENCODING = 'UTF8'\n",
    "    LC_COLLATE = 'C'\n",
    "    LC_CTYPE = 'C'\n",
    "    TABLESPACE = pg_default\n",
    "    CONNECTION LIMIT = -1\n",
    "    IS_TEMPLATE = False;\n",
    "'''"
   ]
  },
  {
   "cell_type": "code",
   "execution_count": 4,
   "metadata": {},
   "outputs": [],
   "source": [
    "\n",
    "conn = psycopg2.connect(\"dbname=atm_proje user = postgres password=12345\")\n",
    "cur = conn.cursor() \n",
    "command = '''create table customer_info\n",
    "(\n",
    "    customer_id integer primary key,\n",
    "    password integer       NOT NULL,\n",
    "    first_name varchar(20) NOT NULL,\n",
    "    surname varchar(20) NOT NULL,\n",
    "    email varchar(20) NOT NULL,\n",
    "    balance integer\n",
    "    \n",
    ") '''\n",
    "cur.execute(command)\n",
    "cur.close()\n",
    "conn.commit()\n",
    "conn.close()"
   ]
  },
  {
   "cell_type": "code",
   "execution_count": 5,
   "metadata": {},
   "outputs": [],
   "source": [
    "conn = psycopg2.connect(\"dbname=atm_proje user = postgres password=12345\")\n",
    "cur = conn.cursor() \n",
    "command = '''create table admin_info\n",
    "(\n",
    "    admin_id integer primary key,\n",
    "    self_now date   not null\n",
    "\n",
    ") '''\n",
    "cur.execute(command)\n",
    "cur.close()\n",
    "conn.commit()\n",
    "conn.close()"
   ]
  },
  {
   "cell_type": "code",
   "execution_count": 31,
   "metadata": {},
   "outputs": [],
   "source": [
    "conn = psycopg2.connect(\"dbname=atm_proje user = postgres password=12345\")\n",
    "cur = conn.cursor() \n",
    "command = '''create table money_actions\n",
    "(\n",
    "    moneyactions_id   integer  primary key,\n",
    "    customer_id       integer  ,\n",
    "    FOREIGN KEY (customer_id)\n",
    "        REFERENCES customer_info (customer_id)\n",
    "        ON UPDATE CASCADE ON DELETE CASCADE, \n",
    "    withdraw_money  integer,\n",
    "    deposit_money   integer,\n",
    "    internal_money  integer,\n",
    "    external_money  integer,\n",
    "    balance         integer\n",
    "   \n",
    "   \n",
    ") '''\n",
    "cur.execute(command)\n",
    "cur.close()\n",
    "conn.commit()\n",
    "conn.close()"
   ]
  },
  {
   "cell_type": "code",
   "execution_count": 20,
   "metadata": {},
   "outputs": [
    {
     "ename": "SyntaxError",
     "evalue": "syntax error at or near \"FOREIGN\"\nLINE 3:     customer_id     integer   PRIMARY KEY  FOREIGN KEY,\n                                                   ^\n",
     "output_type": "error",
     "traceback": [
      "\u001b[1;31m---------------------------------------------------------------------------\u001b[0m",
      "\u001b[1;31mSyntaxError\u001b[0m                               Traceback (most recent call last)",
      "Cell \u001b[1;32mIn[20], line 9\u001b[0m\n\u001b[0;32m      2\u001b[0m cur \u001b[39m=\u001b[39m conn\u001b[39m.\u001b[39mcursor() \n\u001b[0;32m      3\u001b[0m command \u001b[39m=\u001b[39m \u001b[39m'''\u001b[39m\u001b[39mcreate table customer_actions\u001b[39m\n\u001b[0;32m      4\u001b[0m \u001b[39m(\u001b[39m\n\u001b[0;32m      5\u001b[0m \u001b[39m    customer_id     integer   PRIMARY KEY  FOREIGN KEY,\u001b[39m\n\u001b[0;32m      6\u001b[0m \u001b[39m    action_date     date      not null,\u001b[39m\n\u001b[0;32m      7\u001b[0m \u001b[39m    cust_actions    varchar(40)  not null \u001b[39m\n\u001b[0;32m      8\u001b[0m \u001b[39m) \u001b[39m\u001b[39m'''\u001b[39m\n\u001b[1;32m----> 9\u001b[0m cur\u001b[39m.\u001b[39;49mexecute(command)\n\u001b[0;32m     10\u001b[0m cur\u001b[39m.\u001b[39mclose()\n\u001b[0;32m     11\u001b[0m conn\u001b[39m.\u001b[39mcommit()\n",
      "\u001b[1;31mSyntaxError\u001b[0m: syntax error at or near \"FOREIGN\"\nLINE 3:     customer_id     integer   PRIMARY KEY  FOREIGN KEY,\n                                                   ^\n"
     ]
    }
   ],
   "source": [
    "conn = psycopg2.connect(\"dbname=atm_proje user = postgres password=12345\")\n",
    "cur = conn.cursor() \n",
    "command = '''create table customer_actions\n",
    "(\n",
    "    customer_id     integer   PRIMARY KEY  FOREIGN KEY,\n",
    "    action_date     date      not null,\n",
    "    cust_actions    varchar(40)  not null \n",
    ") '''\n",
    "cur.execute(command)\n",
    "cur.close()\n",
    "conn.commit()\n",
    "conn.close()"
   ]
  },
  {
   "cell_type": "code",
   "execution_count": null,
   "metadata": {},
   "outputs": [],
   "source": []
  }
 ],
 "metadata": {
  "kernelspec": {
   "display_name": "Python 3",
   "language": "python",
   "name": "python3"
  },
  "language_info": {
   "codemirror_mode": {
    "name": "ipython",
    "version": 3
   },
   "file_extension": ".py",
   "mimetype": "text/x-python",
   "name": "python",
   "nbconvert_exporter": "python",
   "pygments_lexer": "ipython3",
   "version": "3.10.10"
  },
  "orig_nbformat": 4,
  "vscode": {
   "interpreter": {
    "hash": "7536d7b229462f4296d4c0dae49c3bd6cd3990c783d6b9d88ce3c31a78605890"
   }
  }
 },
 "nbformat": 4,
 "nbformat_minor": 2
}
